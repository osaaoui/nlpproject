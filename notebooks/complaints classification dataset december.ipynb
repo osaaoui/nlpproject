{
 "cells": [
  {
   "cell_type": "code",
   "execution_count": 1,
   "id": "bc0578ae",
   "metadata": {},
   "outputs": [],
   "source": [
    "import pandas as pd\n",
    "import numpy as np\n",
    "import matplotlib.pyplot as plt\n",
    "import seaborn as sns"
   ]
  },
  {
   "cell_type": "code",
   "execution_count": 9,
   "id": "77b0a8a6",
   "metadata": {},
   "outputs": [],
   "source": [
    "#Lecture du Dataset\n",
    "df= pd.read_csv('../data/external/train_2.csv')"
   ]
  },
  {
   "cell_type": "code",
   "execution_count": 10,
   "id": "ee42d7eb",
   "metadata": {},
   "outputs": [
    {
     "data": {
      "text/plain": [
       "Date received                         0\n",
       "Product                               0\n",
       "Sub-product                           0\n",
       "Issue                                 0\n",
       "Sub-issue                             0\n",
       "Consumer complaint narrative          0\n",
       "Company public response               0\n",
       "Company                               0\n",
       "State                                 0\n",
       "ZIP code                              0\n",
       "Tags                                  0\n",
       "Consumer consent provided?            0\n",
       "Submitted via                         0\n",
       "Date sent to company                  0\n",
       "Company response to consumer          0\n",
       "Timely response?                      0\n",
       "Consumer disputed?              1197844\n",
       "Complaint ID                          0\n",
       "dtype: int64"
      ]
     },
     "execution_count": 10,
     "metadata": {},
     "output_type": "execute_result"
    }
   ],
   "source": [
    "#Valeurs nulles\n",
    "df.isna().sum()"
   ]
  },
  {
   "cell_type": "code",
   "execution_count": 11,
   "id": "01b665d2",
   "metadata": {},
   "outputs": [
    {
     "data": {
      "text/plain": [
       "Credit reporting, credit repair services, or other personal consumer reports    778990\n",
       "Debt collection                                                                 210805\n",
       "Credit reporting or other personal consumer reports                              72657\n",
       "Mortgage                                                                         59437\n",
       "Checking or savings account                                                      46699\n",
       "Credit card or prepaid card                                                      35040\n",
       "Credit reporting                                                                 21216\n",
       "Student loan                                                                     21110\n",
       "Name: Product, dtype: int64"
      ]
     },
     "execution_count": 11,
     "metadata": {},
     "output_type": "execute_result"
    }
   ],
   "source": [
    "#Nombre de modalités pour la variable 'Product'\n",
    "df.Product.value_counts()"
   ]
  },
  {
   "cell_type": "code",
   "execution_count": 12,
   "id": "11bb582b",
   "metadata": {},
   "outputs": [
    {
     "data": {
      "text/html": [
       "<div>\n",
       "<style scoped>\n",
       "    .dataframe tbody tr th:only-of-type {\n",
       "        vertical-align: middle;\n",
       "    }\n",
       "\n",
       "    .dataframe tbody tr th {\n",
       "        vertical-align: top;\n",
       "    }\n",
       "\n",
       "    .dataframe thead th {\n",
       "        text-align: right;\n",
       "    }\n",
       "</style>\n",
       "<table border=\"1\" class=\"dataframe\">\n",
       "  <thead>\n",
       "    <tr style=\"text-align: right;\">\n",
       "      <th></th>\n",
       "      <th>Date received</th>\n",
       "      <th>Product</th>\n",
       "      <th>Sub-product</th>\n",
       "      <th>Issue</th>\n",
       "      <th>Sub-issue</th>\n",
       "      <th>Consumer complaint narrative</th>\n",
       "      <th>Company public response</th>\n",
       "      <th>Company</th>\n",
       "      <th>State</th>\n",
       "      <th>ZIP code</th>\n",
       "      <th>Tags</th>\n",
       "      <th>Consumer consent provided?</th>\n",
       "      <th>Submitted via</th>\n",
       "      <th>Date sent to company</th>\n",
       "      <th>Company response to consumer</th>\n",
       "      <th>Timely response?</th>\n",
       "      <th>Consumer disputed?</th>\n",
       "      <th>Complaint ID</th>\n",
       "    </tr>\n",
       "  </thead>\n",
       "  <tbody>\n",
       "    <tr>\n",
       "      <th>0</th>\n",
       "      <td>07/19/23</td>\n",
       "      <td>Checking or savings account</td>\n",
       "      <td>Checking account</td>\n",
       "      <td>Managing an account</td>\n",
       "      <td>Deposits and withdrawals</td>\n",
       "      <td>I deposited a {$550.00} USPS money order XX/XX...</td>\n",
       "      <td>Company has responded to the consumer and the ...</td>\n",
       "      <td>BANK OF AMERICA, NATIONAL ASSOCIATION</td>\n",
       "      <td>GA</td>\n",
       "      <td>30294</td>\n",
       "      <td>Older American</td>\n",
       "      <td>Consent provided</td>\n",
       "      <td>Web</td>\n",
       "      <td>07/19/23</td>\n",
       "      <td>Closed with explanation</td>\n",
       "      <td>Yes</td>\n",
       "      <td>NaN</td>\n",
       "      <td>7273276</td>\n",
       "    </tr>\n",
       "    <tr>\n",
       "      <th>1</th>\n",
       "      <td>09/25/23</td>\n",
       "      <td>Checking or savings account</td>\n",
       "      <td>Checking account</td>\n",
       "      <td>Managing an account</td>\n",
       "      <td>Funds not handled or disbursed as instructed</td>\n",
       "      <td>On XX/XX/2023, My checking account was restric...</td>\n",
       "      <td>None</td>\n",
       "      <td>JPMORGAN CHASE &amp; CO.</td>\n",
       "      <td>NV</td>\n",
       "      <td>89074</td>\n",
       "      <td>None</td>\n",
       "      <td>Consent provided</td>\n",
       "      <td>Web</td>\n",
       "      <td>09/25/23</td>\n",
       "      <td>Closed with explanation</td>\n",
       "      <td>Yes</td>\n",
       "      <td>NaN</td>\n",
       "      <td>7602001</td>\n",
       "    </tr>\n",
       "    <tr>\n",
       "      <th>2</th>\n",
       "      <td>10/23/23</td>\n",
       "      <td>Checking or savings account</td>\n",
       "      <td>Checking account</td>\n",
       "      <td>Managing an account</td>\n",
       "      <td>Problem using a debit or ATM card</td>\n",
       "      <td>On XX/XX/2023 I was in XXXX XXXX my debit card...</td>\n",
       "      <td>Company has responded to the consumer and the ...</td>\n",
       "      <td>SANTANDER HOLDINGS USA, INC.</td>\n",
       "      <td>NY</td>\n",
       "      <td>10308</td>\n",
       "      <td>None</td>\n",
       "      <td>Consent provided</td>\n",
       "      <td>Web</td>\n",
       "      <td>10/23/23</td>\n",
       "      <td>Closed with explanation</td>\n",
       "      <td>Yes</td>\n",
       "      <td>NaN</td>\n",
       "      <td>7744633</td>\n",
       "    </tr>\n",
       "  </tbody>\n",
       "</table>\n",
       "</div>"
      ],
      "text/plain": [
       "  Date received                      Product       Sub-product  \\\n",
       "0      07/19/23  Checking or savings account  Checking account   \n",
       "1      09/25/23  Checking or savings account  Checking account   \n",
       "2      10/23/23  Checking or savings account  Checking account   \n",
       "\n",
       "                 Issue                                     Sub-issue  \\\n",
       "0  Managing an account                      Deposits and withdrawals   \n",
       "1  Managing an account  Funds not handled or disbursed as instructed   \n",
       "2  Managing an account             Problem using a debit or ATM card   \n",
       "\n",
       "                        Consumer complaint narrative  \\\n",
       "0  I deposited a {$550.00} USPS money order XX/XX...   \n",
       "1  On XX/XX/2023, My checking account was restric...   \n",
       "2  On XX/XX/2023 I was in XXXX XXXX my debit card...   \n",
       "\n",
       "                             Company public response  \\\n",
       "0  Company has responded to the consumer and the ...   \n",
       "1                                               None   \n",
       "2  Company has responded to the consumer and the ...   \n",
       "\n",
       "                                 Company State ZIP code            Tags  \\\n",
       "0  BANK OF AMERICA, NATIONAL ASSOCIATION    GA    30294  Older American   \n",
       "1                   JPMORGAN CHASE & CO.    NV    89074            None   \n",
       "2           SANTANDER HOLDINGS USA, INC.    NY    10308            None   \n",
       "\n",
       "  Consumer consent provided? Submitted via Date sent to company  \\\n",
       "0           Consent provided           Web             07/19/23   \n",
       "1           Consent provided           Web             09/25/23   \n",
       "2           Consent provided           Web             10/23/23   \n",
       "\n",
       "  Company response to consumer Timely response? Consumer disputed?  \\\n",
       "0      Closed with explanation              Yes                NaN   \n",
       "1      Closed with explanation              Yes                NaN   \n",
       "2      Closed with explanation              Yes                NaN   \n",
       "\n",
       "   Complaint ID  \n",
       "0       7273276  \n",
       "1       7602001  \n",
       "2       7744633  "
      ]
     },
     "execution_count": 12,
     "metadata": {},
     "output_type": "execute_result"
    }
   ],
   "source": [
    "# Balance the data\n",
    "df_grouped_by = df.groupby(['Product'])\n",
    "df_balanced = df_grouped_by.apply(lambda x: x.sample(df_grouped_by.size().min()).reset_index(drop=True))\n",
    "df_balanced = df_balanced.droplevel(['Product'])\n",
    "df_balanced.head(3)"
   ]
  },
  {
   "cell_type": "code",
   "execution_count": 13,
   "id": "ae568a4a",
   "metadata": {},
   "outputs": [
    {
     "data": {
      "text/plain": [
       "Checking or savings account                                                     21110\n",
       "Credit card or prepaid card                                                     21110\n",
       "Credit reporting                                                                21110\n",
       "Credit reporting or other personal consumer reports                             21110\n",
       "Credit reporting, credit repair services, or other personal consumer reports    21110\n",
       "Debt collection                                                                 21110\n",
       "Mortgage                                                                        21110\n",
       "Student loan                                                                    21110\n",
       "Name: Product, dtype: int64"
      ]
     },
     "execution_count": 13,
     "metadata": {},
     "output_type": "execute_result"
    }
   ],
   "source": [
    "#Nombre de modalités après le balancement des données\n",
    "df_balanced.Product.value_counts()"
   ]
  },
  {
   "cell_type": "code",
   "execution_count": 14,
   "id": "2f819027",
   "metadata": {},
   "outputs": [
    {
     "data": {
      "text/plain": [
       "Incorrect information on your report                                                21816\n",
       "Incorrect information on credit report                                              21110\n",
       "Managing an account                                                                 20976\n",
       "Dealing with your lender or servicer                                                19118\n",
       "Problem with a purchase shown on your statement                                     15714\n",
       "Trouble during payment process                                                      13406\n",
       "Improper use of your report                                                         12251\n",
       "Problem with a credit reporting company's investigation into an existing problem    10994\n",
       "Attempts to collect debt not owed                                                    9168\n",
       "Struggling to pay mortgage                                                           6823\n",
       "Problem with a company's investigation into an existing problem                      5562\n",
       "Written notification about debt                                                      3525\n",
       "Communication tactics                                                                2328\n",
       "False statements or representation                                                   2276\n",
       "Took or threatened to take negative or legal action                                  2114\n",
       "Cont'd attempts collect debt not owed                                                1699\n",
       "Name: Issue, dtype: int64"
      ]
     },
     "execution_count": 14,
     "metadata": {},
     "output_type": "execute_result"
    }
   ],
   "source": [
    "#nombre de modalités de la variable 'Issue'\n",
    "df_balanced.Issue.value_counts()"
   ]
  },
  {
   "cell_type": "code",
   "execution_count": 15,
   "id": "540ade23",
   "metadata": {},
   "outputs": [],
   "source": [
    "#Remove stop words\n",
    "import warnings\n",
    "warnings.filterwarnings(\"ignore\")\n",
    "from nltk.corpus import stopwords\n",
    "import nltk"
   ]
  },
  {
   "cell_type": "code",
   "execution_count": 16,
   "id": "91cb170b",
   "metadata": {},
   "outputs": [],
   "source": [
    "stopword=set(stopwords.words('english'))"
   ]
  },
  {
   "cell_type": "code",
   "execution_count": 17,
   "id": "62452efd",
   "metadata": {},
   "outputs": [],
   "source": [
    "#Text processing\n",
    "import string\n",
    "import re\n",
    "def clean(text):\n",
    "    text = str(text).lower()\n",
    "    text = re.sub('\\[.*?\\]', '', text)\n",
    "    text = re.sub('https?://\\S+|www\\.\\S+', '', text)\n",
    "    text = re.sub('<.*?>+', '', text)\n",
    "    text = re.sub('[%s]' % re.escape(string.punctuation), '', text)\n",
    "    text = re.sub('\\n', '', text)\n",
    "    text = re.sub('\\w*\\d\\w*', '', text)\n",
    "    text = [word for word in text.split(' ') if word not in stopword]\n",
    "    text=\" \".join(text)\n",
    "    #text = [stemmer.stem(word) for word in text.split(' ')]\n",
    "    #text=\" \".join(text)\n",
    "    return text"
   ]
  },
  {
   "cell_type": "code",
   "execution_count": 18,
   "id": "433b79b1",
   "metadata": {},
   "outputs": [],
   "source": [
    "df_balanced['clean_text'] = df_balanced[\"Consumer complaint narrative\"].apply(clean)"
   ]
  },
  {
   "cell_type": "code",
   "execution_count": 20,
   "id": "bc49d524",
   "metadata": {},
   "outputs": [
    {
     "data": {
      "text/plain": [
       "'On XX/XX/2023, My checking account was restricted with Chase Bank. They said my account was being close and wishes to not have me as a customer, did not give any information beyond that. There was {$18000.00} in my joint checking account. \\n\\nI called every week, they told me 10 business days later they would over night a check of my funds. \\n\\nOn XX/XX/2023. I called and a representative told me she did not see any funds being released. I escalated to a supervisor that did confirm the funds, but they were withdrawn to an internal chase account to their internal investigation bureau. I asked for contact information with this investigation bureau and was told there is not way to contact them and to just wait. Could not tell me how long to wait, and just wait.\\n\\nChase did not send me a letter in the mail, or contact me. I only found out my account was restricted when a friend tried to send me money through XXXX, that was when I discovered my account was restricted on XX/XX/XXXX.'"
      ]
     },
     "execution_count": 20,
     "metadata": {},
     "output_type": "execute_result"
    }
   ],
   "source": [
    "#Exemple d'une plainte: texte brut\n",
    "df_balanced[\"Consumer complaint narrative\"].iloc[1]"
   ]
  },
  {
   "cell_type": "code",
   "execution_count": 21,
   "id": "768d884d",
   "metadata": {},
   "outputs": [
    {
     "data": {
      "text/plain": [
       "' checking account restricted chase bank said account close wishes customer give information beyond  joint checking account called every week told  business days later would night check funds  called representative told see funds released escalated supervisor confirm funds withdrawn internal chase account internal investigation bureau asked contact information investigation bureau told way contact wait could tell long wait waitchase send letter mail contact found account restricted friend tried send money xxxx discovered account restricted xxxxxxxx'"
      ]
     },
     "execution_count": 21,
     "metadata": {},
     "output_type": "execute_result"
    }
   ],
   "source": [
    "# Exemple d'une plainte après nettoyage\n",
    "df_balanced[\"clean_text\"].iloc[1]"
   ]
  },
  {
   "cell_type": "code",
   "execution_count": 22,
   "id": "21e92440",
   "metadata": {},
   "outputs": [],
   "source": [
    "data=df_balanced[[\"Product\", \"clean_text\", \"Issue\"]].copy()"
   ]
  },
  {
   "cell_type": "code",
   "execution_count": 23,
   "id": "81d93b81",
   "metadata": {},
   "outputs": [],
   "source": [
    "data.columns=[\"category\", \"complaint\", \"Issue\"]"
   ]
  },
  {
   "cell_type": "code",
   "execution_count": 24,
   "id": "2e482707",
   "metadata": {},
   "outputs": [
    {
     "data": {
      "text/html": [
       "<div>\n",
       "<style scoped>\n",
       "    .dataframe tbody tr th:only-of-type {\n",
       "        vertical-align: middle;\n",
       "    }\n",
       "\n",
       "    .dataframe tbody tr th {\n",
       "        vertical-align: top;\n",
       "    }\n",
       "\n",
       "    .dataframe thead th {\n",
       "        text-align: right;\n",
       "    }\n",
       "</style>\n",
       "<table border=\"1\" class=\"dataframe\">\n",
       "  <thead>\n",
       "    <tr style=\"text-align: right;\">\n",
       "      <th></th>\n",
       "      <th>category</th>\n",
       "      <th>complaint</th>\n",
       "      <th>Issue</th>\n",
       "    </tr>\n",
       "  </thead>\n",
       "  <tbody>\n",
       "    <tr>\n",
       "      <th>0</th>\n",
       "      <td>Checking or savings account</td>\n",
       "      <td>deposited  usps money order xxxxxxxx bank amer...</td>\n",
       "      <td>Managing an account</td>\n",
       "    </tr>\n",
       "    <tr>\n",
       "      <th>1</th>\n",
       "      <td>Checking or savings account</td>\n",
       "      <td>checking account restricted chase bank said a...</td>\n",
       "      <td>Managing an account</td>\n",
       "    </tr>\n",
       "  </tbody>\n",
       "</table>\n",
       "</div>"
      ],
      "text/plain": [
       "                      category  \\\n",
       "0  Checking or savings account   \n",
       "1  Checking or savings account   \n",
       "\n",
       "                                           complaint                Issue  \n",
       "0  deposited  usps money order xxxxxxxx bank amer...  Managing an account  \n",
       "1   checking account restricted chase bank said a...  Managing an account  "
      ]
     },
     "execution_count": 24,
     "metadata": {},
     "output_type": "execute_result"
    }
   ],
   "source": [
    "data.head(2)"
   ]
  },
  {
   "cell_type": "code",
   "execution_count": 25,
   "id": "9e157f7b",
   "metadata": {},
   "outputs": [],
   "source": [
    "# Encoder la variable cible \"category\"\n",
    "data[\"category_id\"]= data[\"category\"].factorize()[0]"
   ]
  },
  {
   "cell_type": "code",
   "execution_count": 26,
   "id": "c4b9c966",
   "metadata": {},
   "outputs": [],
   "source": [
    "category_id_df = data[['category', 'category_id']].drop_duplicates()"
   ]
  },
  {
   "cell_type": "code",
   "execution_count": 27,
   "id": "32c6e6ba",
   "metadata": {},
   "outputs": [],
   "source": [
    "category_to_id = dict(category_id_df.values)\n",
    "id_to_category = dict(category_id_df[['category_id', 'category']].values)"
   ]
  },
  {
   "cell_type": "markdown",
   "id": "4e0327ea",
   "metadata": {},
   "source": [
    "### Développement du modèle"
   ]
  },
  {
   "cell_type": "code",
   "execution_count": 28,
   "id": "9ef9c404",
   "metadata": {},
   "outputs": [],
   "source": [
    "from sklearn.feature_extraction.text import TfidfVectorizer, CountVectorizer\n",
    "from sklearn.feature_selection import chi2\n",
    "from IPython.display import display\n",
    "from sklearn.model_selection import train_test_split\n",
    "from sklearn.feature_extraction.text import TfidfTransformer\n",
    "from sklearn.naive_bayes import MultinomialNB\n",
    "from sklearn.linear_model import LogisticRegression\n",
    "from sklearn.ensemble import RandomForestClassifier\n",
    "from sklearn.svm import LinearSVC\n",
    "from sklearn.model_selection import cross_val_score\n",
    "from sklearn.metrics import confusion_matrix\n",
    "from sklearn import metrics"
   ]
  },
  {
   "cell_type": "code",
   "execution_count": 103,
   "id": "3f59e355",
   "metadata": {},
   "outputs": [
    {
     "name": "stdout",
     "output_type": "stream",
     "text": [
      "Requirement already satisfied: textblob in /Users/omarsaaoui/opt/anaconda3/lib/python3.9/site-packages (0.17.1)\n",
      "Requirement already satisfied: nltk>=3.1 in /Users/omarsaaoui/opt/anaconda3/lib/python3.9/site-packages (from textblob) (3.7)\n",
      "Requirement already satisfied: regex>=2021.8.3 in /Users/omarsaaoui/opt/anaconda3/lib/python3.9/site-packages (from nltk>=3.1->textblob) (2022.7.9)\n",
      "Requirement already satisfied: tqdm in /Users/omarsaaoui/opt/anaconda3/lib/python3.9/site-packages (from nltk>=3.1->textblob) (4.64.1)\n",
      "Requirement already satisfied: joblib in /Users/omarsaaoui/opt/anaconda3/lib/python3.9/site-packages (from nltk>=3.1->textblob) (1.1.0)\n",
      "Requirement already satisfied: click in /Users/omarsaaoui/opt/anaconda3/lib/python3.9/site-packages (from nltk>=3.1->textblob) (8.0.4)\n",
      "Note: you may need to restart the kernel to use updated packages.\n"
     ]
    }
   ],
   "source": [
    "#pip install -U textblob"
   ]
  },
  {
   "cell_type": "code",
   "execution_count": 29,
   "id": "6ab18cea",
   "metadata": {},
   "outputs": [],
   "source": [
    "# Feature engineering\n",
    "count_vec = CountVectorizer(max_df=0.90,min_df=2,\n",
    "                           max_features=1000,stop_words='english')\n",
    "\n",
    "bagofword_vec = count_vec.fit_transform(data['complaint'])\n",
    "bagofword_vec\n",
    "labels =data.category_id"
   ]
  },
  {
   "cell_type": "code",
   "execution_count": 30,
   "id": "fca55b4e",
   "metadata": {},
   "outputs": [],
   "source": [
    "#extraction des prédicteurs et cible\n",
    "X= data.loc[:, 'complaint']\n",
    "y= data.loc[:, 'category_id']"
   ]
  },
  {
   "cell_type": "code",
   "execution_count": 31,
   "id": "5ad3fe31",
   "metadata": {},
   "outputs": [],
   "source": [
    "# split des data\n",
    "X_train, X_test, y_train, y_test,indices_train, indices_test = train_test_split(X,y,data.index,\n",
    "                                                    test_size=0.2)\n",
    "#X_train.shape,X_test.shape"
   ]
  },
  {
   "cell_type": "code",
   "execution_count": 32,
   "id": "0419362b",
   "metadata": {},
   "outputs": [],
   "source": [
    "xtrain_cv = count_vec.fit_transform(X_train)\n",
    "xtest_cv = count_vec.transform(X_test)"
   ]
  },
  {
   "cell_type": "markdown",
   "id": "730d2188",
   "metadata": {},
   "source": [
    "### Entrainement du modèle:\n",
    "Le modèle sera entrainé avec plusieurs algorithmes de classification. Le choix du modèle final se fera sur la base de la performance: temps d'exécution et métriques"
   ]
  },
  {
   "cell_type": "code",
   "execution_count": 36,
   "id": "57c2b13d",
   "metadata": {},
   "outputs": [],
   "source": [
    "from sklearn.tree import DecisionTreeClassifier # Import Decision Tree Classifier"
   ]
  },
  {
   "cell_type": "code",
   "execution_count": 37,
   "id": "567a101f",
   "metadata": {},
   "outputs": [
    {
     "data": {
      "text/plain": [
       "0.6994315490288963"
      ]
     },
     "execution_count": 37,
     "metadata": {},
     "output_type": "execute_result"
    }
   ],
   "source": [
    "# Create Decision Tree classifer object\n",
    "clf = DecisionTreeClassifier()\n",
    "\n",
    "# Train Decision Tree Classifer\n",
    "clf = clf.fit(xtrain_cv,y_train)\n",
    "\n",
    "#Predict the response for test dataset\n",
    "y_pred = clf.predict(xtrain_cv)\n",
    "clf.score(xtest_cv,y_test)"
   ]
  },
  {
   "cell_type": "code",
   "execution_count": 38,
   "id": "d0260187",
   "metadata": {},
   "outputs": [],
   "source": [
    "from sklearn.linear_model import SGDClassifier"
   ]
  },
  {
   "cell_type": "code",
   "execution_count": 39,
   "id": "798529a9",
   "metadata": {},
   "outputs": [
    {
     "name": "stdout",
     "output_type": "stream",
     "text": [
      "CPU times: user 10.2 s, sys: 52.6 ms, total: 10.2 s\n",
      "Wall time: 10.3 s\n"
     ]
    },
    {
     "data": {
      "text/plain": [
       "0.7110966366650876"
      ]
     },
     "execution_count": 39,
     "metadata": {},
     "output_type": "execute_result"
    }
   ],
   "source": [
    "%%time\n",
    "sgdc = SGDClassifier()\n",
    "sgdc.fit(xtrain_cv, y_train)\n",
    "#sgdc.fit(xtrain_cv, y_train)\n",
    "sgdc.score(xtest_cv, y_test)"
   ]
  },
  {
   "cell_type": "code",
   "execution_count": 40,
   "id": "260b16d5",
   "metadata": {},
   "outputs": [],
   "source": [
    "from sklearn.linear_model import LogisticRegression"
   ]
  },
  {
   "cell_type": "code",
   "execution_count": 41,
   "id": "fc3879c5",
   "metadata": {},
   "outputs": [
    {
     "name": "stdout",
     "output_type": "stream",
     "text": [
      "Accuracy: 0.7523685457129322\n",
      "CPU times: user 28.6 s, sys: 901 ms, total: 29.5 s\n",
      "Wall time: 7.71 s\n"
     ]
    }
   ],
   "source": [
    "%%time\n",
    "classifier = LogisticRegression()\n",
    "classifier.fit(xtrain_cv, y_train)\n",
    "score = classifier.score(xtest_cv, y_test)\n",
    "\n",
    "print(\"Accuracy:\", score)"
   ]
  },
  {
   "cell_type": "code",
   "execution_count": 42,
   "id": "e57dc301",
   "metadata": {},
   "outputs": [
    {
     "name": "stdout",
     "output_type": "stream",
     "text": [
      "0.7132579346281384\n",
      "CPU times: user 76.9 ms, sys: 5.32 ms, total: 82.2 ms\n",
      "Wall time: 81.2 ms\n"
     ]
    }
   ],
   "source": [
    "%%time\n",
    "mb = MultinomialNB()\n",
    "mb.fit(xtrain_cv, y_train.ravel())\n",
    "#mb.fit(xtrain_cv,y_train)\n",
    "mbpred = mb.predict(xtest_cv)\n",
    "print(metrics.accuracy_score(y_test,mbpred))"
   ]
  },
  {
   "cell_type": "code",
   "execution_count": 43,
   "id": "9eb97d3f",
   "metadata": {},
   "outputs": [
    {
     "name": "stdout",
     "output_type": "stream",
     "text": [
      "0.8056016106110848\n",
      "CPU times: user 9min 27s, sys: 1.46 s, total: 9min 28s\n",
      "Wall time: 9min 31s\n"
     ]
    }
   ],
   "source": [
    "%%time\n",
    "rf = RandomForestClassifier()\n",
    "rf.fit(xtrain_cv,y_train)\n",
    "print(metrics.accuracy_score(y_test,rf.predict(xtest_cv)))"
   ]
  },
  {
   "cell_type": "code",
   "execution_count": 124,
   "id": "ccb362ee",
   "metadata": {},
   "outputs": [
    {
     "name": "stdout",
     "output_type": "stream",
     "text": [
      "Collecting xgboost\n",
      "  Downloading xgboost-2.0.3-py3-none-macosx_10_15_x86_64.macosx_11_0_x86_64.macosx_12_0_x86_64.whl (2.2 MB)\n",
      "\u001b[2K     \u001b[90m━━━━━━━━━━━━━━━━━━━━━━━━━━━━━━━━━━━━━━━━\u001b[0m \u001b[32m2.2/2.2 MB\u001b[0m \u001b[31m3.0 MB/s\u001b[0m eta \u001b[36m0:00:00\u001b[0m00:01\u001b[0m00:01\u001b[0m\n",
      "\u001b[?25hRequirement already satisfied: numpy in /Users/omarsaaoui/opt/anaconda3/lib/python3.9/site-packages (from xgboost) (1.24.3)\n",
      "Requirement already satisfied: scipy in /Users/omarsaaoui/opt/anaconda3/lib/python3.9/site-packages (from xgboost) (1.9.1)\n",
      "Installing collected packages: xgboost\n",
      "Successfully installed xgboost-2.0.3\n",
      "Note: you may need to restart the kernel to use updated packages.\n"
     ]
    }
   ],
   "source": [
    "pip install xgboost"
   ]
  },
  {
   "cell_type": "code",
   "execution_count": 33,
   "id": "0ca5cef0",
   "metadata": {},
   "outputs": [],
   "source": [
    "import xgboost as xgb"
   ]
  },
  {
   "cell_type": "code",
   "execution_count": 35,
   "id": "bb3dea44",
   "metadata": {},
   "outputs": [
    {
     "name": "stdout",
     "output_type": "stream",
     "text": [
      "Accuracy: 80.73%\n",
      "CPU times: user 5min 49s, sys: 53.4 s, total: 6min 42s\n",
      "Wall time: 52 s\n"
     ]
    }
   ],
   "source": [
    "%%time\n",
    "# Train the XGBoost model\n",
    "model = xgb.XGBClassifier(learning_rate =0.1,\n",
    " n_estimators=1000,\n",
    " max_depth=5,\n",
    " n_jobs=-1)\n",
    "model.fit(xtrain_cv, y_train)\n",
    "predictions = model.predict(xtest_cv)\n",
    "# Evaluate the model performance\n",
    "accuracy = metrics.accuracy_score(y_test, predictions)\n",
    "print(\"Accuracy: {:.2f}%\".format(accuracy * 100))"
   ]
  },
  {
   "cell_type": "markdown",
   "id": "e52e298e",
   "metadata": {},
   "source": [
    "### Issues: \n",
    "Développer un 2e modèle qui va prédire 'issue' de la plainte. Donc en plus de la catégorie, on va pouvoir classifier les plaintes selon 'issue'"
   ]
  },
  {
   "cell_type": "code",
   "execution_count": 46,
   "id": "b3c44430",
   "metadata": {},
   "outputs": [
    {
     "data": {
      "text/html": [
       "<div>\n",
       "<style scoped>\n",
       "    .dataframe tbody tr th:only-of-type {\n",
       "        vertical-align: middle;\n",
       "    }\n",
       "\n",
       "    .dataframe tbody tr th {\n",
       "        vertical-align: top;\n",
       "    }\n",
       "\n",
       "    .dataframe thead th {\n",
       "        text-align: right;\n",
       "    }\n",
       "</style>\n",
       "<table border=\"1\" class=\"dataframe\">\n",
       "  <thead>\n",
       "    <tr style=\"text-align: right;\">\n",
       "      <th></th>\n",
       "      <th>category</th>\n",
       "      <th>complaint</th>\n",
       "      <th>Issue</th>\n",
       "      <th>category_id</th>\n",
       "    </tr>\n",
       "  </thead>\n",
       "  <tbody>\n",
       "    <tr>\n",
       "      <th>0</th>\n",
       "      <td>Checking or savings account</td>\n",
       "      <td>wells fargo bank account timeframe listed sett...</td>\n",
       "      <td>Managing an account</td>\n",
       "      <td>0</td>\n",
       "    </tr>\n",
       "    <tr>\n",
       "      <th>1</th>\n",
       "      <td>Checking or savings account</td>\n",
       "      <td>opened pnc account  part account opening inclu...</td>\n",
       "      <td>Managing an account</td>\n",
       "      <td>0</td>\n",
       "    </tr>\n",
       "    <tr>\n",
       "      <th>2</th>\n",
       "      <td>Checking or savings account</td>\n",
       "      <td>regarding td bank routing number xxxx account ...</td>\n",
       "      <td>Managing an account</td>\n",
       "      <td>0</td>\n",
       "    </tr>\n",
       "  </tbody>\n",
       "</table>\n",
       "</div>"
      ],
      "text/plain": [
       "                      category  \\\n",
       "0  Checking or savings account   \n",
       "1  Checking or savings account   \n",
       "2  Checking or savings account   \n",
       "\n",
       "                                           complaint                Issue  \\\n",
       "0  wells fargo bank account timeframe listed sett...  Managing an account   \n",
       "1  opened pnc account  part account opening inclu...  Managing an account   \n",
       "2  regarding td bank routing number xxxx account ...  Managing an account   \n",
       "\n",
       "   category_id  \n",
       "0            0  \n",
       "1            0  \n",
       "2            0  "
      ]
     },
     "execution_count": 46,
     "metadata": {},
     "output_type": "execute_result"
    }
   ],
   "source": [
    "data.head(3)"
   ]
  },
  {
   "cell_type": "code",
   "execution_count": 47,
   "id": "7a3d9d9b",
   "metadata": {},
   "outputs": [
    {
     "data": {
      "text/plain": [
       "Incorrect information on your report                                                21770\n",
       "Incorrect information on credit report                                              21110\n",
       "Managing an account                                                                 20974\n",
       "Dealing with your lender or servicer                                                19118\n",
       "Problem with a purchase shown on your statement                                     15734\n",
       "Trouble during payment process                                                      13444\n",
       "Improper use of your report                                                         12180\n",
       "Problem with a credit reporting company's investigation into an existing problem    10988\n",
       "Attempts to collect debt not owed                                                    9135\n",
       "Struggling to pay mortgage                                                           6772\n",
       "Problem with a company's investigation into an existing problem                      5680\n",
       "Written notification about debt                                                      3545\n",
       "Communication tactics                                                                2348\n",
       "False statements or representation                                                   2315\n",
       "Took or threatened to take negative or legal action                                  2077\n",
       "Cont'd attempts collect debt not owed                                                1690\n",
       "Name: Issue, dtype: int64"
      ]
     },
     "execution_count": 47,
     "metadata": {},
     "output_type": "execute_result"
    }
   ],
   "source": [
    "df_balanced.Issue.value_counts()"
   ]
  },
  {
   "cell_type": "code",
   "execution_count": 48,
   "id": "192c5ee7",
   "metadata": {},
   "outputs": [],
   "source": [
    "data2= pd.DataFrame(data, columns=['complaint', 'Issue'])"
   ]
  },
  {
   "cell_type": "code",
   "execution_count": 49,
   "id": "757e3f22",
   "metadata": {},
   "outputs": [
    {
     "data": {
      "text/html": [
       "<div>\n",
       "<style scoped>\n",
       "    .dataframe tbody tr th:only-of-type {\n",
       "        vertical-align: middle;\n",
       "    }\n",
       "\n",
       "    .dataframe tbody tr th {\n",
       "        vertical-align: top;\n",
       "    }\n",
       "\n",
       "    .dataframe thead th {\n",
       "        text-align: right;\n",
       "    }\n",
       "</style>\n",
       "<table border=\"1\" class=\"dataframe\">\n",
       "  <thead>\n",
       "    <tr style=\"text-align: right;\">\n",
       "      <th></th>\n",
       "      <th>complaint</th>\n",
       "      <th>Issue</th>\n",
       "    </tr>\n",
       "  </thead>\n",
       "  <tbody>\n",
       "    <tr>\n",
       "      <th>0</th>\n",
       "      <td>wells fargo bank account timeframe listed sett...</td>\n",
       "      <td>Managing an account</td>\n",
       "    </tr>\n",
       "    <tr>\n",
       "      <th>1</th>\n",
       "      <td>opened pnc account  part account opening inclu...</td>\n",
       "      <td>Managing an account</td>\n",
       "    </tr>\n",
       "  </tbody>\n",
       "</table>\n",
       "</div>"
      ],
      "text/plain": [
       "                                           complaint                Issue\n",
       "0  wells fargo bank account timeframe listed sett...  Managing an account\n",
       "1  opened pnc account  part account opening inclu...  Managing an account"
      ]
     },
     "execution_count": 49,
     "metadata": {},
     "output_type": "execute_result"
    }
   ],
   "source": [
    "data2.head(2)"
   ]
  },
  {
   "cell_type": "code",
   "execution_count": 50,
   "id": "42e76b69",
   "metadata": {},
   "outputs": [],
   "source": [
    "# Encoder la variable cible \"category\"\n",
    "data2[\"issue_id\"]= data2[\"Issue\"].factorize()[0]"
   ]
  },
  {
   "cell_type": "code",
   "execution_count": 51,
   "id": "48de636c",
   "metadata": {},
   "outputs": [],
   "source": [
    "category_id_df_issue = data2[['Issue', 'issue_id']].drop_duplicates()"
   ]
  },
  {
   "cell_type": "code",
   "execution_count": 52,
   "id": "b31eaf57",
   "metadata": {},
   "outputs": [],
   "source": [
    "category_to_id_issue = dict(category_id_df_issue.values)\n",
    "id_to_category_issue = dict(category_id_df_issue[['issue_id', 'Issue']].values)"
   ]
  },
  {
   "cell_type": "code",
   "execution_count": 53,
   "id": "b32cdc0c",
   "metadata": {},
   "outputs": [],
   "source": [
    "X_issue= data2.loc[:, 'complaint']\n",
    "y_issue= data2.loc[:, 'issue_id']"
   ]
  },
  {
   "cell_type": "code",
   "execution_count": 54,
   "id": "88af3953",
   "metadata": {},
   "outputs": [
    {
     "data": {
      "text/plain": [
       "((135104,), (33776,))"
      ]
     },
     "execution_count": 54,
     "metadata": {},
     "output_type": "execute_result"
    }
   ],
   "source": [
    "X_train_issue, X_test_issue, y_train_issue, y_test_issue = train_test_split(X_issue,y_issue,\n",
    "                                                    test_size=0.2)\n",
    "X_train_issue.shape,X_test_issue.shape"
   ]
  },
  {
   "cell_type": "code",
   "execution_count": 55,
   "id": "0418158a",
   "metadata": {},
   "outputs": [
    {
     "data": {
      "text/plain": [
       "(135104, 1000)"
      ]
     },
     "execution_count": 55,
     "metadata": {},
     "output_type": "execute_result"
    }
   ],
   "source": [
    "xtrain_cv_issue = count_vec.fit_transform(X_train_issue)\n",
    "xtest_cv_issue = count_vec.transform(X_test_issue)\n",
    "xtrain_cv_issue.shape"
   ]
  },
  {
   "cell_type": "code",
   "execution_count": 124,
   "id": "3fd4687f",
   "metadata": {},
   "outputs": [
    {
     "data": {
      "text/plain": [
       "0.6287896731406916"
      ]
     },
     "execution_count": 124,
     "metadata": {},
     "output_type": "execute_result"
    }
   ],
   "source": [
    "# Create Decision Tree classifer object\n",
    "clf_issue = DecisionTreeClassifier()\n",
    "\n",
    "# Train Decision Tree Classifer\n",
    "clf_issue = clf_issue.fit(xtrain_cv_issue,y_train_issue)\n",
    "\n",
    "#Predict the response for test dataset\n",
    "#y_pred = clf_issue.predict(X_train_issue)\n",
    "clf_issue.score(xtest_cv_issue,y_test_issue)"
   ]
  },
  {
   "cell_type": "code",
   "execution_count": 127,
   "id": "99681649",
   "metadata": {},
   "outputs": [
    {
     "name": "stdout",
     "output_type": "stream",
     "text": [
      "CPU times: user 15.5 s, sys: 72.8 ms, total: 15.6 s\n",
      "Wall time: 15.7 s\n"
     ]
    },
    {
     "data": {
      "text/plain": [
       "0.6392408810990052"
      ]
     },
     "execution_count": 127,
     "metadata": {},
     "output_type": "execute_result"
    }
   ],
   "source": [
    "%%time\n",
    "from sklearn.linear_model import SGDClassifier\n",
    "\n",
    "sgdc_issue = SGDClassifier()\n",
    "sgdc_issue.fit(xtrain_cv_issue, y_train_issue)\n",
    "sgdc_issue.score(xtest_cv_issue, y_test_issue)"
   ]
  },
  {
   "cell_type": "code",
   "execution_count": 128,
   "id": "c06ff6f6",
   "metadata": {},
   "outputs": [
    {
     "name": "stdout",
     "output_type": "stream",
     "text": [
      "Accuracy: 0.6808680720037896\n",
      "CPU times: user 34.9 s, sys: 38.3 s, total: 1min 13s\n",
      "Wall time: 10.3 s\n"
     ]
    }
   ],
   "source": [
    "%%time\n",
    "classifier_issue = LogisticRegression()\n",
    "classifier_issue.fit(xtrain_cv_issue, y_train_issue)\n",
    "score_issue = classifier_issue.score(xtest_cv_issue, y_test_issue)\n",
    "\n",
    "print(\"Accuracy:\", score_issue)"
   ]
  },
  {
   "cell_type": "code",
   "execution_count": 129,
   "id": "924f61e6",
   "metadata": {},
   "outputs": [
    {
     "name": "stdout",
     "output_type": "stream",
     "text": [
      "0.6457839886309806\n",
      "CPU times: user 81.4 ms, sys: 41.1 ms, total: 122 ms\n",
      "Wall time: 126 ms\n"
     ]
    }
   ],
   "source": [
    "%%time\n",
    "mb_issue = MultinomialNB()\n",
    "mb_issue.fit(xtrain_cv_issue,y_train_issue)\n",
    "mbpred_issue = mb_issue.predict(xtest_cv_issue)\n",
    "print(metrics.accuracy_score(y_test_issue,mbpred_issue))"
   ]
  },
  {
   "cell_type": "code",
   "execution_count": 130,
   "id": "ed99aa62",
   "metadata": {},
   "outputs": [
    {
     "name": "stdout",
     "output_type": "stream",
     "text": [
      "0.7398744670772146\n",
      "CPU times: user 9min 52s, sys: 2.1 s, total: 9min 54s\n",
      "Wall time: 9min 57s\n"
     ]
    }
   ],
   "source": [
    "%%time\n",
    "rf_issue = RandomForestClassifier()\n",
    "rf_issue.fit(xtrain_cv_issue,y_train_issue)\n",
    "print(metrics.accuracy_score(y_test_issue,rf_issue.predict(xtest_cv_issue)))"
   ]
  },
  {
   "cell_type": "code",
   "execution_count": 56,
   "id": "f2adfecf",
   "metadata": {},
   "outputs": [
    {
     "name": "stdout",
     "output_type": "stream",
     "text": [
      "Accuracy: 73.55%\n",
      "CPU times: user 1min 39s, sys: 14.8 s, total: 1min 54s\n",
      "Wall time: 15.9 s\n"
     ]
    }
   ],
   "source": [
    "%%time\n",
    "# Train the XGBoost model\n",
    "model_issue = xgb.XGBClassifier(n_jobs=-1)\n",
    "model_issue.fit(xtrain_cv_issue, y_train_issue)\n",
    "predictions_issue = model_issue.predict(xtest_cv_issue)\n",
    "# Evaluate the model performance\n",
    "accuracy_issue = metrics.accuracy_score(y_test_issue, predictions_issue)\n",
    "print(\"Accuracy: {:.2f}%\".format(accuracy_issue * 100))"
   ]
  },
  {
   "cell_type": "code",
   "execution_count": 85,
   "id": "ea33ddad",
   "metadata": {},
   "outputs": [],
   "source": [
    "example= data2['complaint'].iloc[50000]"
   ]
  },
  {
   "cell_type": "code",
   "execution_count": 86,
   "id": "452e1248",
   "metadata": {},
   "outputs": [
    {
     "data": {
      "text/plain": [
       "'divorce decree indicate ex wife pay medical expenses created children collection placed report resulting failure pay medical bills daughter disputed issue experian sent report stating collection remain work payment arrangement creditor'"
      ]
     },
     "execution_count": 86,
     "metadata": {},
     "output_type": "execute_result"
    }
   ],
   "source": [
    "example"
   ]
  },
  {
   "cell_type": "code",
   "execution_count": 87,
   "id": "03d00bcf",
   "metadata": {},
   "outputs": [],
   "source": [
    "example= count_vec.transform([example])"
   ]
  },
  {
   "cell_type": "code",
   "execution_count": 88,
   "id": "eb649fc9",
   "metadata": {},
   "outputs": [
    {
     "data": {
      "text/plain": [
       "array([6])"
      ]
     },
     "execution_count": 88,
     "metadata": {},
     "output_type": "execute_result"
    }
   ],
   "source": [
    "model_issue.predict(example)"
   ]
  },
  {
   "cell_type": "code",
   "execution_count": 67,
   "id": "e3c4d00c",
   "metadata": {},
   "outputs": [
    {
     "data": {
      "text/plain": [
       "{'Managing an account': 0,\n",
       " 'Incorrect information on your report': 1,\n",
       " 'Improper use of your report': 2,\n",
       " \"Problem with a credit reporting company's investigation into an existing problem\": 3,\n",
       " \"Problem with a company's investigation into an existing problem\": 4,\n",
       " 'Problem with a purchase shown on your statement': 5,\n",
       " 'Incorrect information on credit report': 6,\n",
       " 'Written notification about debt': 7,\n",
       " 'Attempts to collect debt not owed': 8,\n",
       " \"Cont'd attempts collect debt not owed\": 9,\n",
       " 'False statements or representation': 10,\n",
       " 'Took or threatened to take negative or legal action': 11,\n",
       " 'Communication tactics': 12,\n",
       " 'Trouble during payment process': 13,\n",
       " 'Struggling to pay mortgage': 14,\n",
       " 'Dealing with your lender or servicer': 15}"
      ]
     },
     "execution_count": 67,
     "metadata": {},
     "output_type": "execute_result"
    }
   ],
   "source": [
    "category_to_id_issue\n",
    "#id_to_category_issue"
   ]
  },
  {
   "cell_type": "code",
   "execution_count": 84,
   "id": "be383d35",
   "metadata": {},
   "outputs": [
    {
     "data": {
      "text/plain": [
       "complaint    divorce decree indicate ex wife pay medical ex...\n",
       "Issue                   Incorrect information on credit report\n",
       "issue_id                                                     6\n",
       "Name: 7780, dtype: object"
      ]
     },
     "execution_count": 84,
     "metadata": {},
     "output_type": "execute_result"
    }
   ],
   "source": [
    "data2.iloc[50000]"
   ]
  },
  {
   "cell_type": "markdown",
   "id": "f3e4c385",
   "metadata": {},
   "source": [
    "### Evidently AI"
   ]
  },
  {
   "cell_type": "code",
   "execution_count": 132,
   "id": "8e962fc0",
   "metadata": {},
   "outputs": [
    {
     "name": "stdout",
     "output_type": "stream",
     "text": [
      "Collecting evidently\n",
      "  Downloading evidently-0.4.12-py3-none-any.whl (16.6 MB)\n",
      "\u001b[2K     \u001b[90m━━━━━━━━━━━━━━━━━━━━━━━━━━━━━━━━━━━━━━━━\u001b[0m \u001b[32m16.6/16.6 MB\u001b[0m \u001b[31m3.0 MB/s\u001b[0m eta \u001b[36m0:00:00\u001b[0m00:01\u001b[0m00:01\u001b[0m\n",
      "\u001b[?25hCollecting uvicorn>=0.22.0\n",
      "  Downloading uvicorn-0.25.0-py3-none-any.whl (60 kB)\n",
      "\u001b[2K     \u001b[90m━━━━━━━━━━━━━━━━━━━━━━━━━━━━━━━━━━━━━━━━\u001b[0m \u001b[32m60.3/60.3 kB\u001b[0m \u001b[31m2.2 MB/s\u001b[0m eta \u001b[36m0:00:00\u001b[0m\n",
      "\u001b[?25hCollecting rich>=13\n",
      "  Downloading rich-13.7.0-py3-none-any.whl (240 kB)\n",
      "\u001b[2K     \u001b[90m━━━━━━━━━━━━━━━━━━━━━━━━━━━━━━━━━━━━━━━\u001b[0m \u001b[32m240.6/240.6 kB\u001b[0m \u001b[31m2.6 MB/s\u001b[0m eta \u001b[36m0:00:00\u001b[0ma \u001b[36m0:00:01\u001b[0m\n",
      "\u001b[?25hCollecting fastapi-restful>=0.5.0\n",
      "  Downloading fastapi_restful-0.5.0-py3-none-any.whl (18 kB)\n",
      "Collecting typing-inspect>=0.9.0\n",
      "  Downloading typing_inspect-0.9.0-py3-none-any.whl (8.8 kB)\n",
      "Collecting watchdog>=3\n",
      "  Downloading watchdog-3.0.0-cp39-cp39-macosx_10_9_x86_64.whl (91 kB)\n",
      "\u001b[2K     \u001b[90m━━━━━━━━━━━━━━━━━━━━━━━━━━━━━━━━━━━━━━━━\u001b[0m \u001b[32m91.2/91.2 kB\u001b[0m \u001b[31m2.5 MB/s\u001b[0m eta \u001b[36m0:00:00\u001b[0m\n",
      "\u001b[?25hRequirement already satisfied: pandas[parquet]>=1.3.5 in /Users/omarsaaoui/opt/anaconda3/lib/python3.9/site-packages (from evidently) (1.4.4)\n",
      "Requirement already satisfied: statsmodels>=0.12.2 in /Users/omarsaaoui/opt/anaconda3/lib/python3.9/site-packages (from evidently) (0.13.2)\n",
      "Requirement already satisfied: scikit-learn>=0.24.0 in /Users/omarsaaoui/opt/anaconda3/lib/python3.9/site-packages (from evidently) (1.0.2)\n",
      "Requirement already satisfied: PyYAML>=5.1 in /Users/omarsaaoui/opt/anaconda3/lib/python3.9/site-packages (from evidently) (6.0)\n",
      "Requirement already satisfied: fsspec in /Users/omarsaaoui/opt/anaconda3/lib/python3.9/site-packages (from evidently) (2022.7.1)\n",
      "Requirement already satisfied: plotly>=5.5.0 in /Users/omarsaaoui/opt/anaconda3/lib/python3.9/site-packages (from evidently) (5.9.0)\n",
      "Requirement already satisfied: nltk>=3.6.7 in /Users/omarsaaoui/opt/anaconda3/lib/python3.9/site-packages (from evidently) (3.7)\n",
      "Requirement already satisfied: requests>=2.21.0 in /Users/omarsaaoui/opt/anaconda3/lib/python3.9/site-packages (from evidently) (2.28.1)\n",
      "Collecting iterative-telemetry>=0.0.5\n",
      "  Downloading iterative_telemetry-0.0.8-py3-none-any.whl (10 kB)\n",
      "Collecting fastapi>=0.100.0\n",
      "  Downloading fastapi-0.108.0-py3-none-any.whl (92 kB)\n",
      "\u001b[2K     \u001b[90m━━━━━━━━━━━━━━━━━━━━━━━━━━━━━━━━━━━━━━━━\u001b[0m \u001b[32m92.0/92.0 kB\u001b[0m \u001b[31m2.8 MB/s\u001b[0m eta \u001b[36m0:00:00\u001b[0m\n",
      "\u001b[?25hRequirement already satisfied: scipy>=1.5.4 in /Users/omarsaaoui/opt/anaconda3/lib/python3.9/site-packages (from evidently) (1.9.1)\n",
      "Collecting typer>=0.3\n",
      "  Downloading typer-0.9.0-py3-none-any.whl (45 kB)\n",
      "\u001b[2K     \u001b[90m━━━━━━━━━━━━━━━━━━━━━━━━━━━━━━━━━━━━━━━━\u001b[0m \u001b[32m45.9/45.9 kB\u001b[0m \u001b[31m2.1 MB/s\u001b[0m eta \u001b[36m0:00:00\u001b[0m\n",
      "\u001b[?25hCollecting pydantic<2\n",
      "  Downloading pydantic-1.10.13-cp39-cp39-macosx_10_9_x86_64.whl (2.9 MB)\n",
      "\u001b[2K     \u001b[90m━━━━━━━━━━━━━━━━━━━━━━━━━━━━━━━━━━━━━━━━\u001b[0m \u001b[32m2.9/2.9 MB\u001b[0m \u001b[31m3.0 MB/s\u001b[0m eta \u001b[36m0:00:00\u001b[0m00:01\u001b[0m00:01\u001b[0m\n",
      "\u001b[?25hRequirement already satisfied: numpy>=1.19.5 in /Users/omarsaaoui/opt/anaconda3/lib/python3.9/site-packages (from evidently) (1.24.3)\n",
      "Collecting typing-extensions>=4.8.0\n",
      "  Downloading typing_extensions-4.9.0-py3-none-any.whl (32 kB)\n",
      "Collecting starlette<0.33.0,>=0.29.0\n",
      "  Downloading starlette-0.32.0.post1-py3-none-any.whl (70 kB)\n",
      "\u001b[2K     \u001b[90m━━━━━━━━━━━━━━━━━━━━━━━━━━━━━━━━━━━━━━━━\u001b[0m \u001b[32m70.0/70.0 kB\u001b[0m \u001b[31m2.5 MB/s\u001b[0m eta \u001b[36m0:00:00\u001b[0m\n",
      "\u001b[?25hRequirement already satisfied: psutil<6,>=5 in /Users/omarsaaoui/opt/anaconda3/lib/python3.9/site-packages (from fastapi-restful>=0.5.0->evidently) (5.9.0)\n",
      "Collecting distro\n",
      "  Downloading distro-1.9.0-py3-none-any.whl (20 kB)\n",
      "Requirement already satisfied: appdirs in /Users/omarsaaoui/opt/anaconda3/lib/python3.9/site-packages (from iterative-telemetry>=0.0.5->evidently) (1.4.4)\n",
      "Requirement already satisfied: filelock in /Users/omarsaaoui/opt/anaconda3/lib/python3.9/site-packages (from iterative-telemetry>=0.0.5->evidently) (3.6.0)\n",
      "Requirement already satisfied: regex>=2021.8.3 in /Users/omarsaaoui/opt/anaconda3/lib/python3.9/site-packages (from nltk>=3.6.7->evidently) (2022.7.9)\n",
      "Requirement already satisfied: tqdm in /Users/omarsaaoui/opt/anaconda3/lib/python3.9/site-packages (from nltk>=3.6.7->evidently) (4.64.1)\n",
      "Requirement already satisfied: click in /Users/omarsaaoui/opt/anaconda3/lib/python3.9/site-packages (from nltk>=3.6.7->evidently) (8.0.4)\n",
      "Requirement already satisfied: joblib in /Users/omarsaaoui/opt/anaconda3/lib/python3.9/site-packages (from nltk>=3.6.7->evidently) (1.1.0)\n",
      "\u001b[33mWARNING: pandas 1.4.4 does not provide the extra 'parquet'\u001b[0m\u001b[33m\n",
      "\u001b[0mRequirement already satisfied: python-dateutil>=2.8.1 in /Users/omarsaaoui/opt/anaconda3/lib/python3.9/site-packages (from pandas[parquet]>=1.3.5->evidently) (2.8.2)\n",
      "Requirement already satisfied: pytz>=2020.1 in /Users/omarsaaoui/opt/anaconda3/lib/python3.9/site-packages (from pandas[parquet]>=1.3.5->evidently) (2022.1)\n",
      "Requirement already satisfied: tenacity>=6.2.0 in /Users/omarsaaoui/opt/anaconda3/lib/python3.9/site-packages (from plotly>=5.5.0->evidently) (8.0.1)\n",
      "Requirement already satisfied: urllib3<1.27,>=1.21.1 in /Users/omarsaaoui/opt/anaconda3/lib/python3.9/site-packages (from requests>=2.21.0->evidently) (1.26.11)\n",
      "Requirement already satisfied: charset-normalizer<3,>=2 in /Users/omarsaaoui/opt/anaconda3/lib/python3.9/site-packages (from requests>=2.21.0->evidently) (2.0.4)\n",
      "Requirement already satisfied: idna<4,>=2.5 in /Users/omarsaaoui/opt/anaconda3/lib/python3.9/site-packages (from requests>=2.21.0->evidently) (3.3)\n",
      "Requirement already satisfied: certifi>=2017.4.17 in /Users/omarsaaoui/opt/anaconda3/lib/python3.9/site-packages (from requests>=2.21.0->evidently) (2022.9.24)\n",
      "Collecting markdown-it-py>=2.2.0\n",
      "  Downloading markdown_it_py-3.0.0-py3-none-any.whl (87 kB)\n",
      "\u001b[2K     \u001b[90m━━━━━━━━━━━━━━━━━━━━━━━━━━━━━━━━━━━━━━━━\u001b[0m \u001b[32m87.5/87.5 kB\u001b[0m \u001b[31m2.6 MB/s\u001b[0m eta \u001b[36m0:00:00\u001b[0m\n",
      "\u001b[?25hCollecting pygments<3.0.0,>=2.13.0\n",
      "  Using cached pygments-2.17.2-py3-none-any.whl (1.2 MB)\n",
      "Requirement already satisfied: threadpoolctl>=2.0.0 in /Users/omarsaaoui/opt/anaconda3/lib/python3.9/site-packages (from scikit-learn>=0.24.0->evidently) (2.2.0)\n",
      "Requirement already satisfied: packaging>=21.3 in /Users/omarsaaoui/opt/anaconda3/lib/python3.9/site-packages (from statsmodels>=0.12.2->evidently) (21.3)\n",
      "Requirement already satisfied: patsy>=0.5.2 in /Users/omarsaaoui/opt/anaconda3/lib/python3.9/site-packages (from statsmodels>=0.12.2->evidently) (0.5.2)\n",
      "Requirement already satisfied: mypy-extensions>=0.3.0 in /Users/omarsaaoui/opt/anaconda3/lib/python3.9/site-packages (from typing-inspect>=0.9.0->evidently) (0.4.3)\n",
      "Collecting h11>=0.8\n",
      "  Downloading h11-0.14.0-py3-none-any.whl (58 kB)\n",
      "\u001b[2K     \u001b[90m━━━━━━━━━━━━━━━━━━━━━━━━━━━━━━━━━━━━━━━━\u001b[0m \u001b[32m58.3/58.3 kB\u001b[0m \u001b[31m1.4 MB/s\u001b[0m eta \u001b[36m0:00:00\u001b[0m\n",
      "\u001b[?25hCollecting mdurl~=0.1\n",
      "  Downloading mdurl-0.1.2-py3-none-any.whl (10.0 kB)\n",
      "Requirement already satisfied: pyparsing!=3.0.5,>=2.0.2 in /Users/omarsaaoui/opt/anaconda3/lib/python3.9/site-packages (from packaging>=21.3->statsmodels>=0.12.2->evidently) (3.0.9)\n",
      "Requirement already satisfied: six in /Users/omarsaaoui/opt/anaconda3/lib/python3.9/site-packages (from patsy>=0.5.2->statsmodels>=0.12.2->evidently) (1.16.0)\n",
      "Requirement already satisfied: anyio<5,>=3.4.0 in /Users/omarsaaoui/opt/anaconda3/lib/python3.9/site-packages (from starlette<0.33.0,>=0.29.0->fastapi>=0.100.0->evidently) (3.5.0)\n",
      "Requirement already satisfied: sniffio>=1.1 in /Users/omarsaaoui/opt/anaconda3/lib/python3.9/site-packages (from anyio<5,>=3.4.0->starlette<0.33.0,>=0.29.0->fastapi>=0.100.0->evidently) (1.2.0)\n",
      "Installing collected packages: watchdog, typing-extensions, pygments, mdurl, h11, distro, uvicorn, typing-inspect, typer, starlette, pydantic, markdown-it-py, iterative-telemetry, rich, fastapi, fastapi-restful, evidently\n",
      "  Attempting uninstall: watchdog\n",
      "    Found existing installation: watchdog 2.1.6\n",
      "    Uninstalling watchdog-2.1.6:\n",
      "      Successfully uninstalled watchdog-2.1.6\n",
      "  Attempting uninstall: typing-extensions\n",
      "    Found existing installation: typing_extensions 4.3.0\n",
      "    Uninstalling typing_extensions-4.3.0:\n"
     ]
    },
    {
     "name": "stdout",
     "output_type": "stream",
     "text": [
      "      Successfully uninstalled typing_extensions-4.3.0\n",
      "  Attempting uninstall: pygments\n",
      "    Found existing installation: Pygments 2.11.2\n",
      "    Uninstalling Pygments-2.11.2:\n",
      "      Successfully uninstalled Pygments-2.11.2\n",
      "\u001b[31mERROR: pip's dependency resolver does not currently take into account all the packages that are installed. This behaviour is the source of the following dependency conflicts.\n",
      "spyder 5.3.3 requires pyqt5<5.16, which is not installed.\n",
      "spyder 5.3.3 requires pyqtwebengine<5.16, which is not installed.\n",
      "tensorflow 2.13.0 requires typing-extensions<4.6.0,>=3.6.6, but you have typing-extensions 4.9.0 which is incompatible.\u001b[0m\u001b[31m\n",
      "\u001b[0mSuccessfully installed distro-1.9.0 evidently-0.4.12 fastapi-0.108.0 fastapi-restful-0.5.0 h11-0.14.0 iterative-telemetry-0.0.8 markdown-it-py-3.0.0 mdurl-0.1.2 pydantic-1.10.13 pygments-2.17.2 rich-13.7.0 starlette-0.32.0.post1 typer-0.9.0 typing-extensions-4.9.0 typing-inspect-0.9.0 uvicorn-0.25.0 watchdog-3.0.0\n",
      "Note: you may need to restart the kernel to use updated packages.\n"
     ]
    }
   ],
   "source": [
    "pip install evidently"
   ]
  },
  {
   "cell_type": "code",
   "execution_count": 1,
   "id": "65a19220",
   "metadata": {},
   "outputs": [
    {
     "data": {
      "text/plain": [
       "'0.4.12'"
      ]
     },
     "execution_count": 1,
     "metadata": {},
     "output_type": "execute_result"
    }
   ],
   "source": [
    "import evidently\n",
    "evidently.__version__"
   ]
  },
  {
   "cell_type": "code",
   "execution_count": 6,
   "id": "a8ded08c",
   "metadata": {},
   "outputs": [
    {
     "name": "stdout",
     "output_type": "stream",
     "text": [
      "Installing /Users/omarsaaoui/opt/anaconda3/lib/python3.9/site-packages/evidently/nbextension/static -> evidently\n",
      "Removing: /Users/omarsaaoui/opt/anaconda3/share/jupyter/nbextensions/evidently\n",
      "Symlinking: /Users/omarsaaoui/opt/anaconda3/share/jupyter/nbextensions/evidently -> /Users/omarsaaoui/opt/anaconda3/lib/python3.9/site-packages/evidently/nbextension/static\n",
      "- Validating: \u001b[32mOK\u001b[0m\n",
      "\n",
      "    To initialize this nbextension in the browser every time the notebook (or other app) loads:\n",
      "    \n",
      "          jupyter nbextension enable evidently --py --sys-prefix\n",
      "    \n"
     ]
    }
   ],
   "source": [
    "!jupyter nbextension install --sys-prefix --symlink --overwrite --py evidently"
   ]
  },
  {
   "cell_type": "code",
   "execution_count": 136,
   "id": "638fd53f",
   "metadata": {},
   "outputs": [
    {
     "name": "stdout",
     "output_type": "stream",
     "text": [
      "Collecting jupyter_contrib_nbextensions\n",
      "  Downloading jupyter_contrib_nbextensions-0.7.0.tar.gz (23.5 MB)\n",
      "\u001b[2K     \u001b[90m━━━━━━━━━━━━━━━━━━━━━━━━━━━━━━━━━━━━━━━━\u001b[0m \u001b[32m23.5/23.5 MB\u001b[0m \u001b[31m1.8 MB/s\u001b[0m eta \u001b[36m0:00:00\u001b[0m00:01\u001b[0m00:01\u001b[0m\n",
      "\u001b[?25h  Preparing metadata (setup.py) ... \u001b[?25ldone\n",
      "\u001b[?25hRequirement already satisfied: ipython_genutils in /Users/omarsaaoui/opt/anaconda3/lib/python3.9/site-packages (from jupyter_contrib_nbextensions) (0.2.0)\n",
      "Collecting jupyter_contrib_core>=0.3.3\n",
      "  Downloading jupyter_contrib_core-0.4.2.tar.gz (17 kB)\n",
      "  Preparing metadata (setup.py) ... \u001b[?25ldone\n",
      "\u001b[?25hRequirement already satisfied: jupyter_core in /Users/omarsaaoui/opt/anaconda3/lib/python3.9/site-packages (from jupyter_contrib_nbextensions) (4.11.1)\n",
      "Collecting jupyter_highlight_selected_word>=0.1.1\n",
      "  Downloading jupyter_highlight_selected_word-0.2.0-py2.py3-none-any.whl (11 kB)\n",
      "Collecting jupyter_nbextensions_configurator>=0.4.0\n",
      "  Downloading jupyter_nbextensions_configurator-0.6.3-py2.py3-none-any.whl (466 kB)\n",
      "\u001b[2K     \u001b[90m━━━━━━━━━━━━━━━━━━━━━━━━━━━━━━━━━━━━━━━\u001b[0m \u001b[32m466.9/466.9 kB\u001b[0m \u001b[31m2.7 MB/s\u001b[0m eta \u001b[36m0:00:00\u001b[0m00:01\u001b[0m00:01\u001b[0m\n",
      "\u001b[?25hRequirement already satisfied: nbconvert>=6.0 in /Users/omarsaaoui/opt/anaconda3/lib/python3.9/site-packages (from jupyter_contrib_nbextensions) (6.4.4)\n",
      "Requirement already satisfied: notebook>=6.0 in /Users/omarsaaoui/opt/anaconda3/lib/python3.9/site-packages (from jupyter_contrib_nbextensions) (6.4.12)\n",
      "Requirement already satisfied: tornado in /Users/omarsaaoui/opt/anaconda3/lib/python3.9/site-packages (from jupyter_contrib_nbextensions) (6.1)\n",
      "Requirement already satisfied: traitlets>=4.1 in /Users/omarsaaoui/opt/anaconda3/lib/python3.9/site-packages (from jupyter_contrib_nbextensions) (5.1.1)\n",
      "Requirement already satisfied: lxml in /Users/omarsaaoui/opt/anaconda3/lib/python3.9/site-packages (from jupyter_contrib_nbextensions) (4.9.1)\n",
      "Requirement already satisfied: setuptools in /Users/omarsaaoui/opt/anaconda3/lib/python3.9/site-packages (from jupyter_contrib_core>=0.3.3->jupyter_contrib_nbextensions) (63.4.1)\n",
      "Requirement already satisfied: pyyaml in /Users/omarsaaoui/opt/anaconda3/lib/python3.9/site-packages (from jupyter_nbextensions_configurator>=0.4.0->jupyter_contrib_nbextensions) (6.0)\n",
      "Requirement already satisfied: pygments>=2.4.1 in /Users/omarsaaoui/opt/anaconda3/lib/python3.9/site-packages (from nbconvert>=6.0->jupyter_contrib_nbextensions) (2.17.2)\n",
      "Requirement already satisfied: testpath in /Users/omarsaaoui/opt/anaconda3/lib/python3.9/site-packages (from nbconvert>=6.0->jupyter_contrib_nbextensions) (0.6.0)\n",
      "Requirement already satisfied: bleach in /Users/omarsaaoui/opt/anaconda3/lib/python3.9/site-packages (from nbconvert>=6.0->jupyter_contrib_nbextensions) (4.1.0)\n",
      "Requirement already satisfied: jupyterlab-pygments in /Users/omarsaaoui/opt/anaconda3/lib/python3.9/site-packages (from nbconvert>=6.0->jupyter_contrib_nbextensions) (0.1.2)\n",
      "Requirement already satisfied: defusedxml in /Users/omarsaaoui/opt/anaconda3/lib/python3.9/site-packages (from nbconvert>=6.0->jupyter_contrib_nbextensions) (0.7.1)\n",
      "Requirement already satisfied: beautifulsoup4 in /Users/omarsaaoui/opt/anaconda3/lib/python3.9/site-packages (from nbconvert>=6.0->jupyter_contrib_nbextensions) (4.11.1)\n",
      "Requirement already satisfied: mistune<2,>=0.8.1 in /Users/omarsaaoui/opt/anaconda3/lib/python3.9/site-packages (from nbconvert>=6.0->jupyter_contrib_nbextensions) (0.8.4)\n",
      "Requirement already satisfied: nbformat>=4.4 in /Users/omarsaaoui/opt/anaconda3/lib/python3.9/site-packages (from nbconvert>=6.0->jupyter_contrib_nbextensions) (5.5.0)\n",
      "Requirement already satisfied: entrypoints>=0.2.2 in /Users/omarsaaoui/opt/anaconda3/lib/python3.9/site-packages (from nbconvert>=6.0->jupyter_contrib_nbextensions) (0.4)\n",
      "Requirement already satisfied: jinja2>=2.4 in /Users/omarsaaoui/opt/anaconda3/lib/python3.9/site-packages (from nbconvert>=6.0->jupyter_contrib_nbextensions) (2.11.3)\n",
      "Requirement already satisfied: nbclient<0.6.0,>=0.5.0 in /Users/omarsaaoui/opt/anaconda3/lib/python3.9/site-packages (from nbconvert>=6.0->jupyter_contrib_nbextensions) (0.5.13)\n",
      "Requirement already satisfied: pandocfilters>=1.4.1 in /Users/omarsaaoui/opt/anaconda3/lib/python3.9/site-packages (from nbconvert>=6.0->jupyter_contrib_nbextensions) (1.5.0)\n",
      "Requirement already satisfied: ipykernel in /Users/omarsaaoui/opt/anaconda3/lib/python3.9/site-packages (from notebook>=6.0->jupyter_contrib_nbextensions) (6.15.2)\n",
      "Requirement already satisfied: terminado>=0.8.3 in /Users/omarsaaoui/opt/anaconda3/lib/python3.9/site-packages (from notebook>=6.0->jupyter_contrib_nbextensions) (0.13.1)\n",
      "Requirement already satisfied: prometheus-client in /Users/omarsaaoui/opt/anaconda3/lib/python3.9/site-packages (from notebook>=6.0->jupyter_contrib_nbextensions) (0.14.1)\n",
      "Requirement already satisfied: jupyter-client>=5.3.4 in /Users/omarsaaoui/opt/anaconda3/lib/python3.9/site-packages (from notebook>=6.0->jupyter_contrib_nbextensions) (7.3.4)\n",
      "Requirement already satisfied: pyzmq>=17 in /Users/omarsaaoui/opt/anaconda3/lib/python3.9/site-packages (from notebook>=6.0->jupyter_contrib_nbextensions) (23.2.0)\n",
      "Requirement already satisfied: Send2Trash>=1.8.0 in /Users/omarsaaoui/opt/anaconda3/lib/python3.9/site-packages (from notebook>=6.0->jupyter_contrib_nbextensions) (1.8.0)\n",
      "Requirement already satisfied: argon2-cffi in /Users/omarsaaoui/opt/anaconda3/lib/python3.9/site-packages (from notebook>=6.0->jupyter_contrib_nbextensions) (21.3.0)\n",
      "Requirement already satisfied: nest-asyncio>=1.5 in /Users/omarsaaoui/opt/anaconda3/lib/python3.9/site-packages (from notebook>=6.0->jupyter_contrib_nbextensions) (1.5.5)\n",
      "Requirement already satisfied: MarkupSafe>=0.23 in /Users/omarsaaoui/opt/anaconda3/lib/python3.9/site-packages (from jinja2>=2.4->nbconvert>=6.0->jupyter_contrib_nbextensions) (2.0.1)\n",
      "Requirement already satisfied: python-dateutil>=2.8.2 in /Users/omarsaaoui/opt/anaconda3/lib/python3.9/site-packages (from jupyter-client>=5.3.4->notebook>=6.0->jupyter_contrib_nbextensions) (2.8.2)\n",
      "Requirement already satisfied: fastjsonschema in /Users/omarsaaoui/opt/anaconda3/lib/python3.9/site-packages (from nbformat>=4.4->nbconvert>=6.0->jupyter_contrib_nbextensions) (2.16.2)\n",
      "Requirement already satisfied: jsonschema>=2.6 in /Users/omarsaaoui/opt/anaconda3/lib/python3.9/site-packages (from nbformat>=4.4->nbconvert>=6.0->jupyter_contrib_nbextensions) (4.16.0)\n",
      "Requirement already satisfied: ptyprocess in /Users/omarsaaoui/opt/anaconda3/lib/python3.9/site-packages (from terminado>=0.8.3->notebook>=6.0->jupyter_contrib_nbextensions) (0.7.0)\n",
      "Requirement already satisfied: argon2-cffi-bindings in /Users/omarsaaoui/opt/anaconda3/lib/python3.9/site-packages (from argon2-cffi->notebook>=6.0->jupyter_contrib_nbextensions) (21.2.0)\n",
      "Requirement already satisfied: soupsieve>1.2 in /Users/omarsaaoui/opt/anaconda3/lib/python3.9/site-packages (from beautifulsoup4->nbconvert>=6.0->jupyter_contrib_nbextensions) (2.3.1)\n",
      "Requirement already satisfied: webencodings in /Users/omarsaaoui/opt/anaconda3/lib/python3.9/site-packages (from bleach->nbconvert>=6.0->jupyter_contrib_nbextensions) (0.5.1)\n",
      "Requirement already satisfied: packaging in /Users/omarsaaoui/opt/anaconda3/lib/python3.9/site-packages (from bleach->nbconvert>=6.0->jupyter_contrib_nbextensions) (21.3)\n",
      "Requirement already satisfied: six>=1.9.0 in /Users/omarsaaoui/opt/anaconda3/lib/python3.9/site-packages (from bleach->nbconvert>=6.0->jupyter_contrib_nbextensions) (1.16.0)\n",
      "Requirement already satisfied: appnope in /Users/omarsaaoui/opt/anaconda3/lib/python3.9/site-packages (from ipykernel->notebook>=6.0->jupyter_contrib_nbextensions) (0.1.2)\n",
      "Requirement already satisfied: psutil in /Users/omarsaaoui/opt/anaconda3/lib/python3.9/site-packages (from ipykernel->notebook>=6.0->jupyter_contrib_nbextensions) (5.9.0)\n",
      "Requirement already satisfied: matplotlib-inline>=0.1 in /Users/omarsaaoui/opt/anaconda3/lib/python3.9/site-packages (from ipykernel->notebook>=6.0->jupyter_contrib_nbextensions) (0.1.6)\n",
      "Requirement already satisfied: ipython>=7.23.1 in /Users/omarsaaoui/opt/anaconda3/lib/python3.9/site-packages (from ipykernel->notebook>=6.0->jupyter_contrib_nbextensions) (7.31.1)\n",
      "Requirement already satisfied: debugpy>=1.0 in /Users/omarsaaoui/opt/anaconda3/lib/python3.9/site-packages (from ipykernel->notebook>=6.0->jupyter_contrib_nbextensions) (1.5.1)\n"
     ]
    },
    {
     "name": "stdout",
     "output_type": "stream",
     "text": [
      "Requirement already satisfied: pexpect>4.3 in /Users/omarsaaoui/opt/anaconda3/lib/python3.9/site-packages (from ipython>=7.23.1->ipykernel->notebook>=6.0->jupyter_contrib_nbextensions) (4.8.0)\n",
      "Requirement already satisfied: pickleshare in /Users/omarsaaoui/opt/anaconda3/lib/python3.9/site-packages (from ipython>=7.23.1->ipykernel->notebook>=6.0->jupyter_contrib_nbextensions) (0.7.5)\n",
      "Requirement already satisfied: prompt-toolkit!=3.0.0,!=3.0.1,<3.1.0,>=2.0.0 in /Users/omarsaaoui/opt/anaconda3/lib/python3.9/site-packages (from ipython>=7.23.1->ipykernel->notebook>=6.0->jupyter_contrib_nbextensions) (3.0.20)\n",
      "Requirement already satisfied: backcall in /Users/omarsaaoui/opt/anaconda3/lib/python3.9/site-packages (from ipython>=7.23.1->ipykernel->notebook>=6.0->jupyter_contrib_nbextensions) (0.2.0)\n",
      "Requirement already satisfied: jedi>=0.16 in /Users/omarsaaoui/opt/anaconda3/lib/python3.9/site-packages (from ipython>=7.23.1->ipykernel->notebook>=6.0->jupyter_contrib_nbextensions) (0.18.1)\n",
      "Requirement already satisfied: decorator in /Users/omarsaaoui/opt/anaconda3/lib/python3.9/site-packages (from ipython>=7.23.1->ipykernel->notebook>=6.0->jupyter_contrib_nbextensions) (5.1.1)\n",
      "Requirement already satisfied: attrs>=17.4.0 in /Users/omarsaaoui/opt/anaconda3/lib/python3.9/site-packages (from jsonschema>=2.6->nbformat>=4.4->nbconvert>=6.0->jupyter_contrib_nbextensions) (21.4.0)\n",
      "Requirement already satisfied: pyrsistent!=0.17.0,!=0.17.1,!=0.17.2,>=0.14.0 in /Users/omarsaaoui/opt/anaconda3/lib/python3.9/site-packages (from jsonschema>=2.6->nbformat>=4.4->nbconvert>=6.0->jupyter_contrib_nbextensions) (0.18.0)\n",
      "Requirement already satisfied: cffi>=1.0.1 in /Users/omarsaaoui/opt/anaconda3/lib/python3.9/site-packages (from argon2-cffi-bindings->argon2-cffi->notebook>=6.0->jupyter_contrib_nbextensions) (1.15.1)\n",
      "Requirement already satisfied: pyparsing!=3.0.5,>=2.0.2 in /Users/omarsaaoui/opt/anaconda3/lib/python3.9/site-packages (from packaging->bleach->nbconvert>=6.0->jupyter_contrib_nbextensions) (3.0.9)\n",
      "Requirement already satisfied: pycparser in /Users/omarsaaoui/opt/anaconda3/lib/python3.9/site-packages (from cffi>=1.0.1->argon2-cffi-bindings->argon2-cffi->notebook>=6.0->jupyter_contrib_nbextensions) (2.21)\n",
      "Requirement already satisfied: parso<0.9.0,>=0.8.0 in /Users/omarsaaoui/opt/anaconda3/lib/python3.9/site-packages (from jedi>=0.16->ipython>=7.23.1->ipykernel->notebook>=6.0->jupyter_contrib_nbextensions) (0.8.3)\n",
      "Requirement already satisfied: wcwidth in /Users/omarsaaoui/opt/anaconda3/lib/python3.9/site-packages (from prompt-toolkit!=3.0.0,!=3.0.1,<3.1.0,>=2.0.0->ipython>=7.23.1->ipykernel->notebook>=6.0->jupyter_contrib_nbextensions) (0.2.5)\n",
      "Building wheels for collected packages: jupyter_contrib_nbextensions, jupyter_contrib_core\n",
      "  Building wheel for jupyter_contrib_nbextensions (setup.py) ... \u001b[?25ldone\n",
      "\u001b[?25h  Created wheel for jupyter_contrib_nbextensions: filename=jupyter_contrib_nbextensions-0.7.0-py2.py3-none-any.whl size=23428784 sha256=db16dd9784de5a3d197df3e0941fc384112d4b2e7dae5a582e543f779b187d00\n",
      "  Stored in directory: /Users/omarsaaoui/Library/Caches/pip/wheels/e7/99/91/7f24a075786a6760f3ac32ab5fa92e1d1a90e0d2cd8958adfd\n",
      "  Building wheel for jupyter_contrib_core (setup.py) ... \u001b[?25ldone\n",
      "\u001b[?25h  Created wheel for jupyter_contrib_core: filename=jupyter_contrib_core-0.4.2-py2.py3-none-any.whl size=17484 sha256=d147b1f4c21d353ce88d291b19e8ec44551d29ba6d835b0b9e5c2a3e99a13d4a\n",
      "  Stored in directory: /Users/omarsaaoui/Library/Caches/pip/wheels/57/9f/80/32c07b8a950a45f6cf8cd5980c22a27ce514c27b795250e497\n",
      "Successfully built jupyter_contrib_nbextensions jupyter_contrib_core\n",
      "Installing collected packages: jupyter_highlight_selected_word, jupyter_contrib_core, jupyter_nbextensions_configurator, jupyter_contrib_nbextensions\n",
      "Successfully installed jupyter_contrib_core-0.4.2 jupyter_contrib_nbextensions-0.7.0 jupyter_highlight_selected_word-0.2.0 jupyter_nbextensions_configurator-0.6.3\n",
      "Note: you may need to restart the kernel to use updated packages.\n"
     ]
    }
   ],
   "source": [
    "pip install jupyter_contrib_nbextensions"
   ]
  },
  {
   "cell_type": "code",
   "execution_count": 8,
   "id": "5386d037",
   "metadata": {},
   "outputs": [
    {
     "name": "stdout",
     "output_type": "stream",
     "text": [
      "Enabling notebook extension evidently/extension...\r\n",
      "      - Validating: \u001b[32mOK\u001b[0m\r\n"
     ]
    }
   ],
   "source": [
    "!jupyter nbextension enable evidently --py --sys-prefix"
   ]
  },
  {
   "cell_type": "code",
   "execution_count": null,
   "id": "136a6d8d",
   "metadata": {},
   "outputs": [],
   "source": []
  }
 ],
 "metadata": {
  "kernelspec": {
   "display_name": "Python 3 (ipykernel)",
   "language": "python",
   "name": "python3"
  },
  "language_info": {
   "codemirror_mode": {
    "name": "ipython",
    "version": 3
   },
   "file_extension": ".py",
   "mimetype": "text/x-python",
   "name": "python",
   "nbconvert_exporter": "python",
   "pygments_lexer": "ipython3",
   "version": "3.9.13"
  }
 },
 "nbformat": 4,
 "nbformat_minor": 5
}
